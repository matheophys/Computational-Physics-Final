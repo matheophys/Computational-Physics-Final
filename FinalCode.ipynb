{
 "cells": [
  {
   "cell_type": "markdown",
   "metadata": {},
   "source": [
    "# Cross Sections and Reference Frames Code\n",
    "\n",
    "A note about conventions. In this notebook all code is created from equations which are created using natural units where choose to set $c=1$ and $\\hbar = 1 $."
   ]
  },
  {
   "cell_type": "code",
   "execution_count": 4,
   "metadata": {},
   "outputs": [],
   "source": [
    "import numpy as np\n",
    "import matplotlib.pyplot as plt"
   ]
  },
  {
   "cell_type": "markdown",
   "metadata": {},
   "source": [
    "We first define a four vector class which will allow us to appropriately take the dot product according to the Minkowski space metric with signature (1,-1,-1,-1). This class allows for the creation of four vector objects by inputting the temporal and spatial components of the four-vector you want to create. Then, the operations of addition and scalar product are defined. "
   ]
  },
  {
   "cell_type": "code",
   "execution_count": 10,
   "metadata": {},
   "outputs": [],
   "source": [
    "class fourvec: \n",
    "    def __init__(A, t, x, y, z):\n",
    "        A.t = t\n",
    "        A.x = x\n",
    "        A.y = y\n",
    "        A.z = z\n",
    "        \n",
    "    def __add__(A, B):\n",
    "        return fourvec( A.t + B.t, A.x + B.x, A.y + B.y, A.z + B.z)\n",
    "        \n",
    "    def dot(A,B):\n",
    "        return A.t*B.t - A.x*B.x - A.y*B.y - A.z*B.z\n",
    "    \n",
    "    def __repr__(self):\n",
    "        return '{self.__class__.__name__}({A.t},{A.x}, {A.y},{A.z})'.format(self=self)"
   ]
  },
  {
   "cell_type": "markdown",
   "metadata": {},
   "source": [
    "In order to transform between reference frames, well need to take the Lorentz transformation of some quantities. Here we define a Lorentz transformation function for any four array. This functions boosts CM frame quantities along the z-axis to their lab frame quantities. The function returns arrays which have a shape = (4, len(angles)) where len(angles) is the length of the angles array one is using. All four vectors must be this length so when they're input into the CM function they can be operated on through the standard array operatios. The center of mass frame is defined by the initial kinematics of the scattering process. "
   ]
  },
  {
   "cell_type": "code",
   "execution_count": 11,
   "metadata": {},
   "outputs": [],
   "source": [
    "def LT(veclab, vcm, shape):\n",
    "    \"\"\"\n",
    "    Lorentz boost four-array along z-axis into the center of mass frame.\n",
    "    \n",
    "    Inputs\n",
    "    ------\n",
    "    veclab : array, shape= (4,)\n",
    "        Array containing elements of a lab frame four-vector.\n",
    "    vcm : int\n",
    "        Velocity of center of mass frame. \n",
    "    length : int\n",
    "        Length of array\n",
    "    Returns\n",
    "    -------\n",
    "    cross : array, shape=(4,length,)\n",
    "        Array of center of mass cross section values.\n",
    "    \n",
    "    \"\"\"\n",
    "    beta = vcm\n",
    "    \n",
    "    veccm = np.empty(shape)\n",
    "    \n",
    "    gamma = 1/ np.sqrt(1 - beta**2)\n",
    "    \n",
    "    veccm[0] = gamma*(veclab[0] - (beta * veclab[0]))\n",
    "    \n",
    "    veccm[1] = veclab[1]\n",
    "    \n",
    "    veccm[2] = veclab[2]\n",
    "    \n",
    "    veccm[3] = gamma*(veclab[3] - (beta * veclab[0]))\n",
    "    \n",
    "    return veccm"
   ]
  },
  {
   "cell_type": "markdown",
   "metadata": {},
   "source": [
    "We now need to make a function which can determine the CM veclocity based on the initial four vector of the scattering process. "
   ]
  },
  {
   "cell_type": "code",
   "execution_count": 12,
   "metadata": {},
   "outputs": [],
   "source": [
    "def comspeed(p1,p2):\n",
    "    \"\"\"\n",
    "    Lorentz boost four-array along z-axis into the center of mass frame.\n",
    "    \n",
    "    Inputs\n",
    "    ------\n",
    "    p1 : array, shape= (4,)\n",
    "        Array containing elements of an initial lab frame four-vector.\n",
    "    p2 : array, shape= (4,)\n",
    "        Array containing elements of an initial lab frame four-vector. \n",
    "   Returns\n",
    "    -------\n",
    "    CMspeed : int\n",
    "        Velocity of the CM frame relative to the lab frame.\n",
    "    \n",
    "    \"\"\"\n",
    "    CMspeed = np.abs(p1[3] + p2[3])/((p1[0] + p2[0]))\n",
    "    return CMspeed"
   ]
  },
  {
   "cell_type": "markdown",
   "metadata": {},
   "source": [
    "We now all the functions needed to create the differential cross section transformation formula. The details of each line are explained in comments. In addition to providing the values of the lab frame differential cross section, the function also produceds a plot of those value in units of nanobarns (nb) $\\times$ $Gev^2$. "
   ]
  },
  {
   "cell_type": "code",
   "execution_count": 13,
   "metadata": {},
   "outputs": [],
   "source": [
    "def dsiglab(dsigcm, p1, p2, p3, p4, angles):\n",
    "    \"\"\"\n",
    "    Lorentz boost CM differential cross section values to lab frame differential cross section values.\n",
    "    \n",
    "    Inputs\n",
    "    ------\n",
    "    p1 : array, shape= (4,)\n",
    "        Array containing elements of particle 1 in the lab frame.\n",
    "    p2 : array, shape= (4,)\n",
    "        Array containing elements of particle 2 in the lab frame. \n",
    "    p3 : array, shape= (4,)\n",
    "        Array containing elements of particle 3 in the lab frame. \n",
    "    p4 : array, shape= (4,)\n",
    "        Array containing elements of particle 4 in the lab frame.\n",
    "    angles: array, shape(N,)\n",
    "        Array containing values of angles at which the differential cross section is to be evaluated.\n",
    "   Returns\n",
    "    -------\n",
    "    cslab : array, shape(N,)\n",
    "        Values of lab frame differential cross section in units of nb GeV^2.\n",
    "    \n",
    "    \"\"\"\n",
    "    #Obtain com speed along z-direction   \n",
    "\n",
    "    vcm = comspeed(p1,p2) \n",
    "    \n",
    "    beta = vcm \n",
    "    \n",
    "    gamma = 1 / np.sqrt(1 - beta**2)\n",
    "    \n",
    "    #Define beta of particle 3 in lab frame\n",
    "    \n",
    "    beta3 = np.sqrt(p3[1]**2 + p3[3]**2)/ p3[0]\n",
    "    \n",
    "    #Redfine center of mass momenta in terms of lab frame quantities\n",
    "    #All momentum sent into center of mass cross section must have the same size to be used in general formula\n",
    "    \n",
    "    p1cm = LT(p1,vcm, (4,len(angles)))\n",
    "    p2cm = LT(p2,vcm, (4,len(angles)))\n",
    "    p3cm = LT(p3,vcm, (4,len(angles)))\n",
    "    p4cm = LT(p4,vcm, (4,len(angles)))\n",
    "    \n",
    "    #Define Lorentz Transformed cosine values from CM to lab frame \n",
    "    \n",
    "    cos = gamma*(np.cos(angles) - (beta / beta3))/(gamma**2*(np.cos(angles) - (beta/beta3))**2 + np.sin(angles)**2)**(1/2)\n",
    "    \n",
    "    #Define transformation factor relating CM differential cross section and lab frame differential cross section\n",
    "    \n",
    "    dcoscm = gamma*(1 - (beta/beta3)*np.cos(angles)) / (gamma**2 * (np.cos(angles) - (beta / beta3))**2 + np.sin(angles)**2)**(3/2)\n",
    "    \n",
    "    #Define conversion factor to yield correct units. This is a dimensionless quantity which scales the cross section\n",
    "    #values.\n",
    "    \n",
    "    nbGeV = (2.56818*10**(-6))\n",
    "    \n",
    "    #Differential cross section in the lab frame given by transformed CM differential cross evaluated with\n",
    "    #CM momenta in terms of lab frame quantities. \n",
    "    \n",
    "    cslab = dcoscm * dsigcm(p1cm, p2cm, p3cm, p4cm, cos)/nbGeV\n",
    "    \n",
    "    plt.scatter(angles, cslab, label = 'Code')\n",
    "    plt.title(' Lab Frame Differential Cross Section',fontsize =15)\n",
    "    plt.xlabel(r'$ \\theta$', fontsize =15)\n",
    "    plt.ylabel(r'$ \\frac{d \\sigma}{d \\Omega} \\quad (nb GeV^2)$',fontsize =15)\n",
    "    plt.legend()\n",
    "    plt.show()\n",
    "    \n",
    "    return cslab"
   ]
  },
  {
   "cell_type": "markdown",
   "metadata": {},
   "source": [
    "Now that the code is in place we can run the test of it by comparing it to the data collected in the paper \"Weak Neutral Currents in e+ e- Collisions at s**(1/2)=29-GeV\". Phys.Rev.Lett. 51 (1983) 1941.https://doi.org/10.1103/PhysRevLett.51.1941. First, we need to define the center of mass cross section as it is defined in the paper."
   ]
  },
  {
   "cell_type": "code",
   "execution_count": 26,
   "metadata": {},
   "outputs": [],
   "source": [
    "def muonpp(p1,p2,p3,p4,cos):\n",
    "    \n",
    "    alpha = (1/137.036)\n",
    "    \n",
    "    g_a = -1/2\n",
    "    \n",
    "    sintw = 0.2314\n",
    "    \n",
    "    g_v = 2* sintw - (1/2)\n",
    "    \n",
    "    G_F = 1.1663787*10**(-5)/((10**9)**2)\n",
    "    \n",
    "    M_z = 91190*10^6\n",
    "    \n",
    "    p12 = p1 + p2\n",
    "   \n",
    "    s = p12**2\n",
    "        \n",
    "    coeff = (2 * np.pi*alpha**2)/(4 )\n",
    "    \n",
    "    coor1 = 1 + (G_F*g_v*g_v/(np.pi*alpha*np.sqrt(2)))*(s[0]*M_z**2/(s[0] - M_z**2))\n",
    "    \n",
    "    signum = (1 + cos**2)*coor1\n",
    "    \n",
    "    coor2 = (2*G_F*g_a**2/(np.pi*alpha*np.sqrt(2)))*((s[0]*M_z**2/(s[0] - M_z**2)))*cos\n",
    "    \n",
    "    return coeff*(signum + coor2)"
   ]
  },
  {
   "cell_type": "markdown",
   "metadata": {},
   "source": [
    "For the initial four momentum vectors we can use the following function which will take as input the center of mass energy squared given by $s = (p_1^{\\mu} + p_2^{\\mu})^2$, and produce the corresponding four vectors in the CM frame."
   ]
  },
  {
   "cell_type": "code",
   "execution_count": 16,
   "metadata": {},
   "outputs": [],
   "source": [
    "def initmom(s_sqrt, mass):\n",
    "    \n",
    "    E = s_sqrt/2\n",
    "    \n",
    "    pz = np.sqrt(E**2 - (mass)**2)\n",
    "    \n",
    "    p1 = np.array([E, 0, 0, pz])\n",
    "    \n",
    "    p2 = np.array([E, 0, 0, - pz])\n",
    "    \n",
    "    return p1,p2"
   ]
  },
  {
   "cell_type": "markdown",
   "metadata": {},
   "source": [
    "Now we need to create the four momentum vectors which are evaluated at certain angles. I've defined two other functions to create the final four vectors for this particular test."
   ]
  },
  {
   "cell_type": "code",
   "execution_count": 30,
   "metadata": {},
   "outputs": [],
   "source": [
    "# Define initial momenta for testing muonpp production\n",
    "\n",
    "me = 0.511*10**6 # Define electron mass in eV\n",
    "\n",
    "alpha = 1/ 137.036 \n",
    "\n",
    "s_sqrt = 29*10**9 # Define sqrt(s) value in units of eV\n",
    "\n",
    "p1muon,p2muon = initmom(s_sqrt,me) #Initial four vectors defined\n",
    "\n",
    "#Define outgoing momenta in the lab frame\n",
    "def p3(angle,E3,pmom3):\n",
    "    \n",
    "    p3 = np.array([np.full(len(angle),E3), pmom3*np.sin(angle), np.zeros(len(angle)), pmom3*np.cos(angle)])\n",
    "    \n",
    "    return p3\n",
    "\n",
    "def p4(angle,E4,pmom4):\n",
    "    \n",
    "    p4 = np.array([np.full(len(angle),E4), - pmom4*np.sin(angle), np.zeros(len(angle)), -pmom4*np.cos(angle)])\n",
    "    \n",
    "    return p4\n",
    "\n",
    "#Define an array of angles and cosine values\n",
    "angle = np.linspace(0,np.pi,100)\n",
    "cosang = np.cos(angle)\n",
    "\n",
    "#Define energy of outgoing muons in CM frame \n",
    "p3mom = np.sqrt(p1muon[0]**2 - (105.658*10**6)**2)\n",
    "p4mom = p3mom\n",
    "\n",
    "#Define outgoing momenta \n",
    "p3muon = p3(angle,p1muon[0],p3mom)\n",
    "\n",
    "p4muon = p4(angle,p1muon[0],p4mom)"
   ]
  },
  {
   "cell_type": "markdown",
   "metadata": {},
   "source": [
    "The result. I've multiplied the cross section result by $\\sqrt{s}$ to make the units correct relative to what was plotted in the paper. "
   ]
  },
  {
   "cell_type": "code",
   "execution_count": 27,
   "metadata": {},
   "outputs": [
    {
     "data": {
      "image/png": "[encoded data removed]",
      "text/plain": [
       "<Figure size 432x288 with 1 Axes>"
      ]
     },
     "metadata": {},
     "output_type": "display_data"
    }
   ],
   "source": [
    "muonpplab = dsiglab(muonpp,p1muon,p2muon,p3muon,p4muon,angle)"
   ]
  },
  {
   "cell_type": "markdown",
   "metadata": {},
   "source": [
    "Here we compare the results with the data from the experiment and the theoretical value. "
   ]
  },
  {
   "cell_type": "code",
   "execution_count": 28,
   "metadata": {},
   "outputs": [],
   "source": [
    "muonppcosang = np.array([-0.65,-0.55,-0.45,-0.35,-0.25,-0.15,-0.05,0.05,0.15,0.25,0.35,0.45,0.55,0.65])\n",
    "muonppdsigdcos = np.array([56.332,49.477,42.122,41.997,33.449,33.368,31.194,35.599,37.012,35.298,37.183,35.897,45.44,44.022])\n",
    "muonppdsigdcoserr = np.array([2.572,2.242,2.066,2.014,1.779,1.782,1.714,1.797,1.857,1.793,1.864,1.813,2.049,2.108])"
   ]
  },
  {
   "cell_type": "code",
   "execution_count": 31,
   "metadata": {},
   "outputs": [
    {
     "data": {
      "image/png": "[encoded data removed]",
      "text/plain": [
       "<Figure size 720x360 with 2 Axes>"
      ]
     },
     "metadata": {},
     "output_type": "display_data"
    }
   ],
   "source": [
    "plt.figure(figsize = (10,5))\n",
    "plt.subplot(1,2,1)\n",
    "plt.scatter(muonppcosang, muonppdsigdcos, label = 'Data')\n",
    "plt.errorbar(muonppcosang, muonppdsigdcos, yerr = muonppdsigdcoserr, fmt = 'o')\n",
    "plt.title(r'$e e^+ \\rightarrow \\mu \\mu^+$ ', fontsize = 15)\n",
    "plt.xlabel(r'$\\cos \\theta$', fontsize =15)\n",
    "plt.ylabel(r'$s \\frac{d\\sigma}{d \\cos \\theta} \\quad (nb GeV^2)$', fontsize = 15)\n",
    "plt.legend()\n",
    "\n",
    "plt.subplot(1,2,2)\n",
    "plt.scatter(cosang, muonpplab, label = 'Code')\n",
    "plt.plot(cosang,(2 * np.pi* alpha**2/(4*s_sqrt**2))*(1 + np.cos(angle)**2)*s_sqrt**2/(2.56818*10**(-6)), label= 'Theory',  color = 'red')\n",
    "plt.title(r'$e e^+ \\rightarrow \\mu \\mu^+$ ',fontsize =15)\n",
    "plt.xlabel(r'$\\cos \\theta$', fontsize =15)\n",
    "plt.ylabel(r'$s \\frac{d \\sigma}{d \\cos \\theta} \\quad (nb GeV^2)$',fontsize =15)\n",
    "plt.legend()\n",
    "\n",
    "plt.tight_layout()\n",
    "\n",
    "plt.show()"
   ]
  },
  {
   "cell_type": "code",
   "execution_count": null,
   "metadata": {},
   "outputs": [],
   "source": [
    "###Create Initial Four Momenta Here###\n",
    "\n",
    "p1 = np.array([])\n",
    "p2 = np.array([])\n",
    "p3 = np.array([])\n",
    "p4 = np.array([])"
   ]
  },
  {
   "cell_type": "code",
   "execution_count": 33,
   "metadata": {},
   "outputs": [],
   "source": [
    "###Create Center of Mass Cross Section Formula Here###\n",
    "\n",
    "def cscm(p1,p2,p3,p4,cos):\n",
    "    \"\"\"\n",
    "    Cross section formula calculated in the center of mass frame.\n",
    "    \n",
    "    Inputs\n",
    "    ------\n",
    "    pi : array, shape= (4,)\n",
    "        Array specifying center of mass four momentum vector written in terms of lab frame quantities  of particle i.\n",
    "    cos: array, shape=(N,)\n",
    "        Array of cosine values.\n",
    "        \n",
    "    Returns\n",
    "    -------\n",
    "    cross : array, shape=(len(cos),)\n",
    "        Array of center of mass cross section values.\n",
    "    \n",
    "    \"\"\"\n",
    "    \n",
    "    return cross"
   ]
  },
  {
   "cell_type": "code",
   "execution_count": null,
   "metadata": {},
   "outputs": [],
   "source": []
  }
 ],
 "metadata": {
  "kernelspec": {
   "display_name": "Python 3",
   "language": "python",
   "name": "python3"
  },
  "language_info": {
   "codemirror_mode": {
    "name": "ipython",
    "version": 3
   },
   "file_extension": ".py",
   "mimetype": "text/x-python",
   "name": "python",
   "nbconvert_exporter": "python",
   "pygments_lexer": "ipython3",
   "version": "3.6.5"
  }
 },
 "nbformat": 4,
 "nbformat_minor": 2
}
